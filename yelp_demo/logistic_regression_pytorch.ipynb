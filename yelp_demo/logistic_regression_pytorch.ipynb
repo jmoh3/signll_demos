{
 "cells": [
  {
   "cell_type": "code",
   "execution_count": 1,
   "metadata": {},
   "outputs": [],
   "source": [
    "import torch\n",
    "import pandas as pd\n",
    "from sklearn.model_selection import train_test_split\n",
    "from sklearn.feature_extraction.text import CountVectorizer"
   ]
  },
  {
   "cell_type": "code",
   "execution_count": 2,
   "metadata": {},
   "outputs": [],
   "source": [
    "df = pd.read_csv('yelp_reviews.csv')"
   ]
  },
  {
   "cell_type": "code",
   "execution_count": 3,
   "metadata": {},
   "outputs": [],
   "source": [
    "df = df.drop('Unnamed: 0', axis=1)"
   ]
  },
  {
   "cell_type": "code",
   "execution_count": 4,
   "metadata": {},
   "outputs": [],
   "source": [
    "X_train, X_test, y_train, y_test = train_test_split(df['text'].values, df['pos_neg'].values, test_size=0.2)"
   ]
  },
  {
   "cell_type": "code",
   "execution_count": 5,
   "metadata": {},
   "outputs": [],
   "source": [
    "vectorizer = CountVectorizer(lowercase=True)"
   ]
  },
  {
   "cell_type": "code",
   "execution_count": 6,
   "metadata": {},
   "outputs": [],
   "source": [
    "X_train_matrix = vectorizer.fit_transform(X_train)"
   ]
  },
  {
   "cell_type": "code",
   "execution_count": 7,
   "metadata": {},
   "outputs": [],
   "source": [
    "X_test_matrix = vectorizer.transform(X_test)"
   ]
  },
  {
   "cell_type": "code",
   "execution_count": 8,
   "metadata": {},
   "outputs": [],
   "source": [
    "X_train_tensor = torch.tensor(X_train_matrix.toarray(), dtype=torch.float)\n",
    "X_test_tensor = torch.tensor(X_test_matrix.toarray(), dtype=torch.float)"
   ]
  },
  {
   "cell_type": "code",
   "execution_count": 9,
   "metadata": {},
   "outputs": [],
   "source": [
    "w = torch.randn(X_train_tensor.shape[1], dtype=torch.float, requires_grad = True)\n",
    "b = torch.tensor(-3.0, requires_grad=True)"
   ]
  },
  {
   "cell_type": "code",
   "execution_count": 10,
   "metadata": {},
   "outputs": [],
   "source": [
    "y_train_tensor = torch.tensor(y_train).float()\n",
    "y_test_tensor = torch.tensor(y_test).float()"
   ]
  },
  {
   "cell_type": "code",
   "execution_count": 19,
   "metadata": {},
   "outputs": [],
   "source": [
    "learning_rate = 0.001"
   ]
  },
  {
   "cell_type": "code",
   "execution_count": 20,
   "metadata": {},
   "outputs": [
    {
     "name": "stdout",
     "output_type": "stream",
     "text": [
      "tensor(22.5788, grad_fn=<AddBackward0>)\n",
      "tensor(0., grad_fn=<LogBackward>)\n",
      "tensor([0., 0., 0.,  ..., 0., 0., 0.])\n",
      "tensor(-1.5637e-10)\n"
     ]
    }
   ],
   "source": [
    "prediction = w @ X_train_tensor[0] + b\n",
    "print(prediction)\n",
    "\n",
    "actual = y_train_tensor[0]\n",
    "\n",
    "loss = torch.log(1 + torch.exp(-actual * prediction))\n",
    "\n",
    "print(loss)\n",
    "\n",
    "loss.backward()\n",
    "print(w.grad)\n",
    "print(b.grad)"
   ]
  },
  {
   "cell_type": "code",
   "execution_count": 21,
   "metadata": {},
   "outputs": [
    {
     "name": "stdout",
     "output_type": "stream",
     "text": [
      "tensor([-0.5637, -1.5917, -1.7510,  ..., -0.5754, -0.2143,  1.2255],\n",
      "       requires_grad=True) tensor(1.0313, requires_grad=True)\n"
     ]
    }
   ],
   "source": [
    "for epoch in range(100):  # consider each data point once in each epoch\n",
    "    for i in range(len(X_train_tensor)):  # iterate over all data points\n",
    "        prediction = w @ X_train_tensor[i] + b\n",
    "        actual = y_train_tensor[i]\n",
    "        loss = torch.log(1 + torch.exp(- actual * prediction))\n",
    "        loss.backward()\n",
    "\n",
    "        with torch.no_grad():\n",
    "            w -= learning_rate * w.grad\n",
    "            b -= learning_rate * b.grad\n",
    "\n",
    "        w.grad.zero_()\n",
    "        b.grad.zero_()\n",
    "\n",
    "print(w, b)"
   ]
  },
  {
   "cell_type": "code",
   "execution_count": 14,
   "metadata": {},
   "outputs": [
    {
     "name": "stdout",
     "output_type": "stream",
     "text": [
      "tensor(26.0664, grad_fn=<AddBackward0>)\n",
      "tensor(1.)\n"
     ]
    }
   ],
   "source": [
    "prediction = w @ X_train_tensor[3] + b\n",
    "print(prediction)\n",
    "\n",
    "actual = y_train_tensor[3]\n",
    "print(actual)"
   ]
  },
  {
   "cell_type": "code",
   "execution_count": 40,
   "metadata": {},
   "outputs": [],
   "source": [
    "correct = 0\n",
    "\n",
    "for i in range(len(X_test_tensor)):\n",
    "    prediction = w @ X_test_tensor[i] + b\n",
    "    actual = y_test_tensor[i]\n",
    "    if (prediction > 0 and actual == 1) or (prediction < 0 and actual == -1):\n",
    "        correct += 1"
   ]
  },
  {
   "cell_type": "code",
   "execution_count": 41,
   "metadata": {},
   "outputs": [
    {
     "data": {
      "text/plain": [
       "1653"
      ]
     },
     "execution_count": 41,
     "metadata": {},
     "output_type": "execute_result"
    }
   ],
   "source": [
    "correct"
   ]
  },
  {
   "cell_type": "code",
   "execution_count": 38,
   "metadata": {},
   "outputs": [],
   "source": [
    "accuracy = correct / len(X_test_tensor)"
   ]
  },
  {
   "cell_type": "code",
   "execution_count": 39,
   "metadata": {},
   "outputs": [
    {
     "data": {
      "text/plain": [
       "0.9072447859495061"
      ]
     },
     "execution_count": 39,
     "metadata": {},
     "output_type": "execute_result"
    }
   ],
   "source": [
    "accuracy"
   ]
  },
  {
   "cell_type": "code",
   "execution_count": 33,
   "metadata": {},
   "outputs": [],
   "source": [
    "# try it yourself!\n",
    "\n",
    "to_predict = torch.tensor(vectorizer.transform([\"Terrible food, terrible service. Would never reccomend to a friend\"]).toarray(), dtype=torch.float)\n"
   ]
  },
  {
   "cell_type": "code",
   "execution_count": 35,
   "metadata": {},
   "outputs": [],
   "source": [
    "prediction = w @ to_predict[0] + b\n",
    "print(prediction)"
   ]
  }
 ],
 "metadata": {
  "kernelspec": {
   "display_name": "Python 3",
   "language": "python",
   "name": "python3"
  },
  "language_info": {
   "codemirror_mode": {
    "name": "ipython",
    "version": 3
   },
   "file_extension": ".py",
   "mimetype": "text/x-python",
   "name": "python",
   "nbconvert_exporter": "python",
   "pygments_lexer": "ipython3",
   "version": "3.7.0"
  }
 },
 "nbformat": 4,
 "nbformat_minor": 2
}
